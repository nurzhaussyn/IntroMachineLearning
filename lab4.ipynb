{
 "cells": [
  {
   "cell_type": "code",
   "execution_count": 17,
   "metadata": {},
   "outputs": [
    {
     "name": "stdout",
     "output_type": "stream",
     "text": [
      "Колдуны:\n",
      "Скелеты\t0.0 0.2 0.7 0.8 \n",
      "Зомби\t0.0 0.3 0.7 0.5 \n",
      "Вампиры\t0.5 0.5 0.5 0.5 \n",
      "Ведьмы\t0.7 0.4 0.4 0.6 \n",
      "Костянной дракон\t0.7 0.7 0.3 0.3 \n",
      "\n",
      "Волшебники:\n",
      "Крестьяне\t0.0 0.3 0.3 0.7 \n",
      "Эльфы\t0.3 0.1 0.7 0.3 \n",
      "Рыцари\t0.8 0.6 0.5 0.4 \n",
      "Феи\t0.8 0.8 0.5 0.6 \n",
      "\n",
      "Таблица эффективности: \n",
      "[0.64000000000000012, 0.64000000000000012, 0.40000000000000002, 0.47999999999999998, 0.20999999999999999, 0.55999999999999994, 0.41999999999999998, 0.34999999999999998, 0.29999999999999999, 0.23999999999999999, 0.40000000000000002, 0.40000000000000002, 0.34999999999999998, 0.34999999999999998, 0.40000000000000002, 0.47999999999999998, 0.47999999999999998, 0.29999999999999999, 0.48999999999999994, 0.32000000000000006, 0.23999999999999999, 0.23999999999999999, 0.48999999999999994, 0.48999999999999994, 0.55999999999999994]\n",
      "Задание № 1\n",
      "||||||||||||\n",
      "vvvvvvvvvvvv\n"
     ]
    }
   ],
   "source": [
    "import pandas as pd\n",
    "import numpy as np\n",
    "from pyDatalog import pyDatalog\n",
    "from pyDatalog import pyEngine\n",
    "\n",
    "def printInitData(table_names, table, cnt):\n",
    "    for i in range(0, cnt):\n",
    "        print(table_names[i], end=\"\\t\")\n",
    "        for j in range(0, 4):\n",
    "            print(table[i][j], end=\" \")\n",
    "        print()\n",
    "\n",
    "colduny = np.array  ([[0, 0.2, 0.7, 0.8], [0, 0.3, 0.7, 0.5], [0.5, 0.5, 0.5, 0.5], [0.7, 0.4, 0.4, 0.6], [0.7, 0.7, 0.3, 0.3]])\n",
    "volshebniki = np.array([[0, 0.3, 0.3, 0.7, 0], [0.3, 0.1, 0.7, 0.3, 0.8], [0.8, 0.6, 0.5, 0.4, 0.3], [0.8, 0.8, 0.5, 0.6, 0.2]])\n",
    "colduny_names = np.array(['Скелеты', 'Зомби', 'Вампиры', 'Ведьмы', 'Костянной дракон'])\n",
    "volshebniki_names = np.array(['Крестьяне', 'Эльфы', 'Рыцари', 'Феи', 'Титан'])\n",
    "print('Колдуны:')\n",
    "#print(colduny[4][3])\n",
    "printInitData(colduny_names, colduny, 5)\n",
    "print('\\nВолшебники:')\n",
    "printInitData(volshebniki_names, volshebniki, 4)\n",
    "\n",
    "print('\\nТаблица эффективности: (колдуны на волшебников)')\n",
    "skillsRate = []\n",
    "for c1 in colduny:\n",
    "    for v1 in volshebniki.T:\n",
    "        skillsRate.append(max(np.multiply(c1, v1)))\n",
    "np.array(skillsRate).reshape((colduny.shape[0], volshebniki.shape[1]))\n",
    "\n",
    "print(skillsRate)\n",
    "\n",
    "print('Задание № 1')\n",
    "print('||||||||||||')\n",
    "print('vvvvvvvvvvvv')"
   ]
  },
  {
   "cell_type": "code",
   "execution_count": null,
   "metadata": {
    "collapsed": true
   },
   "outputs": [],
   "source": [
    "Моя армия волшебников против армии колдунов :\n",
    "    Титан (кол. 1)       =>  Кост. Дракон (кол. 1)\n",
    "    Феи (кол. 4)         =>  Ведьмы (кол. 2)\n",
    "    Рыцари (кол. 6)      =>  Вампиры (кол. 3)\n",
    "    Крестьяне (кол. 5)   =>  Зомби (кол. 5)\n",
    "    Эльфы (кол. 8)       =>  Скелеты (кол. 8)\n",
    "\n",
    "    Тотал сумма:  3580 "
   ]
  },
  {
   "cell_type": "code",
   "execution_count": null,
   "metadata": {
    "collapsed": true
   },
   "outputs": [],
   "source": [
    "Задание №2\n",
    "Моя армия волшебников за 2000 :"
   ]
  }
 ],
 "metadata": {
  "kernelspec": {
   "display_name": "Python 3",
   "language": "python",
   "name": "python3"
  },
  "language_info": {
   "codemirror_mode": {
    "name": "ipython",
    "version": 3
   },
   "file_extension": ".py",
   "mimetype": "text/x-python",
   "name": "python",
   "nbconvert_exporter": "python",
   "pygments_lexer": "ipython3",
   "version": "3.6.3"
  }
 },
 "nbformat": 4,
 "nbformat_minor": 2
}
